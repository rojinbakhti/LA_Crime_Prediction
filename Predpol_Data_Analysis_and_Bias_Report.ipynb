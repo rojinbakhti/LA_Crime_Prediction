{
  "nbformat": 4,
  "nbformat_minor": 0,
  "metadata": {
    "colab": {
      "name": "Predpol Data Analysis and Bias Report",
      "provenance": [],
      "collapsed_sections": []
    },
    "kernelspec": {
      "name": "python3",
      "display_name": "Python 3"
    },
    "language_info": {
      "name": "python"
    }
  },
  "cells": [
    {
      "cell_type": "code",
      "metadata": {
        "colab": {
          "base_uri": "https://localhost:8080/"
        },
        "id": "OjbkBn5AlEih",
        "outputId": "e3edd9df-0426-4ff0-f616-56610ef57780"
      },
      "source": [
        "!pip install geopandas\n",
        "!pip install --upgrade matplotlib\n",
        "\n",
        "import geopandas\n",
        "import pandas as pd\n",
        "import numpy as np\n",
        "import matplotlib.pyplot as plt\n",
        "import cv2"
      ],
      "execution_count": null,
      "outputs": [
        {
          "output_type": "stream",
          "name": "stdout",
          "text": [
            "Requirement already satisfied: geopandas in /usr/local/lib/python3.7/dist-packages (0.10.2)\n",
            "Requirement already satisfied: fiona>=1.8 in /usr/local/lib/python3.7/dist-packages (from geopandas) (1.8.20)\n",
            "Requirement already satisfied: shapely>=1.6 in /usr/local/lib/python3.7/dist-packages (from geopandas) (1.8.0)\n",
            "Requirement already satisfied: pandas>=0.25.0 in /usr/local/lib/python3.7/dist-packages (from geopandas) (1.1.5)\n",
            "Requirement already satisfied: pyproj>=2.2.0 in /usr/local/lib/python3.7/dist-packages (from geopandas) (3.2.1)\n",
            "Requirement already satisfied: six>=1.7 in /usr/local/lib/python3.7/dist-packages (from fiona>=1.8->geopandas) (1.15.0)\n",
            "Requirement already satisfied: munch in /usr/local/lib/python3.7/dist-packages (from fiona>=1.8->geopandas) (2.5.0)\n",
            "Requirement already satisfied: certifi in /usr/local/lib/python3.7/dist-packages (from fiona>=1.8->geopandas) (2021.10.8)\n",
            "Requirement already satisfied: attrs>=17 in /usr/local/lib/python3.7/dist-packages (from fiona>=1.8->geopandas) (21.2.0)\n",
            "Requirement already satisfied: click-plugins>=1.0 in /usr/local/lib/python3.7/dist-packages (from fiona>=1.8->geopandas) (1.1.1)\n",
            "Requirement already satisfied: cligj>=0.5 in /usr/local/lib/python3.7/dist-packages (from fiona>=1.8->geopandas) (0.7.2)\n",
            "Requirement already satisfied: setuptools in /usr/local/lib/python3.7/dist-packages (from fiona>=1.8->geopandas) (57.4.0)\n",
            "Requirement already satisfied: click>=4.0 in /usr/local/lib/python3.7/dist-packages (from fiona>=1.8->geopandas) (7.1.2)\n",
            "Requirement already satisfied: pytz>=2017.2 in /usr/local/lib/python3.7/dist-packages (from pandas>=0.25.0->geopandas) (2018.9)\n",
            "Requirement already satisfied: numpy>=1.15.4 in /usr/local/lib/python3.7/dist-packages (from pandas>=0.25.0->geopandas) (1.19.5)\n",
            "Requirement already satisfied: python-dateutil>=2.7.3 in /usr/local/lib/python3.7/dist-packages (from pandas>=0.25.0->geopandas) (2.8.2)\n",
            "Requirement already satisfied: matplotlib in /usr/local/lib/python3.7/dist-packages (3.5.1)\n",
            "Requirement already satisfied: numpy>=1.17 in /usr/local/lib/python3.7/dist-packages (from matplotlib) (1.19.5)\n",
            "Requirement already satisfied: fonttools>=4.22.0 in /usr/local/lib/python3.7/dist-packages (from matplotlib) (4.28.4)\n",
            "Requirement already satisfied: pyparsing>=2.2.1 in /usr/local/lib/python3.7/dist-packages (from matplotlib) (3.0.6)\n",
            "Requirement already satisfied: python-dateutil>=2.7 in /usr/local/lib/python3.7/dist-packages (from matplotlib) (2.8.2)\n",
            "Requirement already satisfied: kiwisolver>=1.0.1 in /usr/local/lib/python3.7/dist-packages (from matplotlib) (1.3.2)\n",
            "Requirement already satisfied: pillow>=6.2.0 in /usr/local/lib/python3.7/dist-packages (from matplotlib) (7.1.2)\n",
            "Requirement already satisfied: cycler>=0.10 in /usr/local/lib/python3.7/dist-packages (from matplotlib) (0.11.0)\n",
            "Requirement already satisfied: packaging>=20.0 in /usr/local/lib/python3.7/dist-packages (from matplotlib) (21.3)\n",
            "Requirement already satisfied: six>=1.5 in /usr/local/lib/python3.7/dist-packages (from python-dateutil>=2.7->matplotlib) (1.15.0)\n"
          ]
        }
      ]
    },
    {
      "cell_type": "code",
      "metadata": {
        "id": "TSd6HJ02mT-c"
      },
      "source": [
        "!pip install -U -q PyDrive\n",
        "from pydrive.auth import GoogleAuth\n",
        "from pydrive.drive import GoogleDrive\n",
        "from google.colab import auth\n",
        "from oauth2client.client import GoogleCredentials\n",
        "# Authenticate and create the PyDrive client.\n",
        "auth.authenticate_user()\n",
        "gauth = GoogleAuth()\n",
        "gauth.credentials = GoogleCredentials.get_application_default()\n",
        "drive = GoogleDrive(gauth)"
      ],
      "execution_count": null,
      "outputs": []
    },
    {
      "cell_type": "code",
      "metadata": {
        "id": "KUUKRaeHmWvM"
      },
      "source": [
        "# # https://drive.google.com/file/d/1wajcswSykeYTIxum4YyjsXwgOYLtpTll/view?usp=sharing\n",
        "# id = \"1wajcswSykeYTIxum4YyjsXwgOYLtpTll\"\n",
        "# downloaded = drive.CreateFile({'id':id}) \n",
        "# downloaded.GetContentFile('CALosAngeles1939.geojson')  \n",
        "# gdf = geopandas.read_file('CALosAngeles1939.geojson')\n",
        "\n",
        "# https://drive.google.com/file/d/1M5VS8I15s9trq_sfd5bCJq5PBEgKcYb6/view?usp=sharing\n",
        "id = \"1M5VS8I15s9trq_sfd5bCJq5PBEgKcYb6\"\n",
        "downloaded = drive.CreateFile({'id':id})\n",
        "downloaded.GetContentFile('dict.csv')\n",
        "cols = ['key', 'bin']\n",
        "mapping_to_bin = pd.read_csv('dict.csv', names=cols)\n",
        "\n",
        "# https://drive.google.com/file/d/17fjlSvgE31BSdjJQpEEuO5ihaLObnBN6/view?usp=sharing\n",
        "id = \"17fjlSvgE31BSdjJQpEEuO5ihaLObnBN6\"\n",
        "downloaded = drive.CreateFile({'id':id})\n",
        "downloaded.GetContentFile('predpol_drug_predictions.csv')\n",
        "predictions = pd.read_csv('predpol_drug_predictions.csv')\n"
      ],
      "execution_count": null,
      "outputs": []
    },
    {
      "cell_type": "markdown",
      "source": [
        "Getting HOLC ID and HOLC Grade based on LAT/LONG"
      ],
      "metadata": {
        "id": "1tnpzqBR_VT0"
      }
    },
    {
      "cell_type": "code",
      "metadata": {
        "id": "msmUH4GCnCil"
      },
      "source": [
        "# print(type(gdf))\n",
        "# print(gdf.shape)\n",
        "# print(gdf.columns)\n",
        "\n",
        "# print(gdf['geometry'])\n",
        "\n",
        "# # point: geopandas point\n",
        "# def get_holc_id_rating(point):\n",
        "#   for index,row in gdf.iterrows():\n",
        "#     if row.geometry.contains(point):\n",
        "#       return (row.holc_id, row.holc_grade)\n",
        "#   return (-1, -1)"
      ],
      "execution_count": null,
      "outputs": []
    },
    {
      "cell_type": "markdown",
      "source": [
        "**bold text**\n",
        "La County split into 150x150 bins\n",
        "long, lat -> bin (10m)\n",
        " ---> taking bins with only a crime, renumbering them into keys (mapped to number between 1 - 10m)"
      ],
      "metadata": {
        "id": "hK5RYVEz_j_h"
      }
    },
    {
      "cell_type": "code",
      "metadata": {
        "colab": {
          "base_uri": "https://localhost:8080/"
        },
        "id": "WZLgKCS0sLCT",
        "outputId": "4bce292c-4c26-4382-dd60-9fe3d30908f3"
      },
      "source": [
        "import math\n",
        "print(mapping_to_bin.head())\n",
        "print(mapping_to_bin.loc[mapping_to_bin[\"key\"] == 3].iloc[0][\"bin\"])\n",
        "\n",
        "# Mapping Keys back to Bin Number\n",
        "def key_to_bin(key):\n",
        "  return int(mapping_to_bin.loc[mapping_to_bin[\"key\"] == key].iloc[0][\"bin\"])\n",
        "\n",
        "min_lat = 33.317\n",
        "max_lat = 34.830\n",
        "min_long = -119.936\n",
        "max_long = -117.352\n",
        "\"\"\"\n",
        "# redefine necessary constants\n",
        "\n",
        "\n",
        "# 111,111 m/deg * deg * bin/150m\n",
        "num_lat_bins = int((max_lat - min_lat) * 111111/150)\n",
        "num_long_bins = int((max_long - min_long) * math.cos(math.radians(max_lat)) * 111111/150)\n",
        "print(num_lat_bins)\n",
        "print(num_long_bins)\n",
        "def get_bin(long, lat):\n",
        "  lat_coord = int((float(lat) - min_lat) * 111111/150)\n",
        "  long_coord = int((float(long) - min_long) * math.cos(math.radians(float(lat))) * 111111/150)\n",
        "  return lat_coord * num_long_bins + long_coord\n",
        "\"\"\"\n",
        "\n",
        "# Grabbing center of bin, Lat, Long\n",
        "def bin_to_lat_long(bin):\n",
        "  num_long_bins = int((max_long - min_long) * math.cos(math.radians(max_lat)) * 111111/150)\n",
        "  num_lat_bins = int((max_lat - min_lat) * 111111/150)\n",
        "  long_coord = bin % num_long_bins\n",
        "  lat_coord = bin // num_long_bins\n",
        "  \n",
        "  lat = (lat_coord / (111111/150)) + min_lat + (75/111111)\n",
        "  long = (long_coord / (math.cos(math.radians(float(lat))) * 111111/150)) + min_long + (75/111111)\n",
        "  return (long, lat)\n",
        "print(bin_to_lat_long(794543))"
      ],
      "execution_count": null,
      "outputs": [
        {
          "output_type": "stream",
          "name": "stdout",
          "text": [
            "   key      bin\n",
            "0  NaN        0\n",
            "1  0.0   964151\n",
            "2  1.0  1171305\n",
            "3  2.0   819705\n",
            "4  3.0   648349\n",
            "648349.0\n",
            "(-118.00080379836078, 33.99942568242568)\n"
          ]
        }
      ]
    },
    {
      "cell_type": "code",
      "metadata": {
        "id": "P9EzVRaD8Vpq",
        "colab": {
          "base_uri": "https://localhost:8080/"
        },
        "outputId": "ddba356a-1f57-454c-c8a4-feed8b6e607a"
      },
      "source": [
        "odds_to_police = .05\n",
        "\n",
        "# prediction.columns = dates for year\n",
        "# Going though every data and bin, checking threshold, to find ... \n",
        "bins_policed_dict = {}\n",
        "for column in predictions.columns:\n",
        "  if column == \"bin\":\n",
        "    continue\n",
        "  if column == \"2018-01-01\":\n",
        "    print(predictions[predictions[column] >= odds_to_police]['bin'])\n",
        "    print(predictions[predictions[column] >= odds_to_police]['bin'].to_numpy())\n",
        "  policed_bins = predictions[predictions[column] >= odds_to_police]['bin'].to_numpy().tolist() # grabs bins greater than threshold for spefic day\n",
        "  # add found bins to bins_policed_dict\n",
        "  for bin in policed_bins:\n",
        "    if bin in bins_policed_dict.keys():\n",
        "      bins_policed_dict[bin] += 1\n",
        "    else:\n",
        "      bins_policed_dict[bin] = 1\n",
        "# Time each bins is pooiced over a year\n",
        "print(bins_policed_dict)"
      ],
      "execution_count": null,
      "outputs": [
        {
          "output_type": "stream",
          "name": "stdout",
          "text": [
            "2          3\n",
            "52        53\n",
            "82        83\n",
            "151      152\n",
            "169      170\n",
            "200      201\n",
            "207      208\n",
            "217      218\n",
            "232      233\n",
            "245      246\n",
            "262      263\n",
            "289      290\n",
            "304      305\n",
            "315      316\n",
            "317      318\n",
            "329      330\n",
            "342      343\n",
            "349      350\n",
            "359      360\n",
            "391      392\n",
            "406      407\n",
            "419      420\n",
            "458      459\n",
            "485      486\n",
            "486      487\n",
            "488      489\n",
            "630      631\n",
            "792      793\n",
            "794      795\n",
            "892      893\n",
            "920      921\n",
            "922      923\n",
            "927      928\n",
            "942      943\n",
            "1059    1060\n",
            "1136    1137\n",
            "1369    1370\n",
            "1384    1385\n",
            "1436    1437\n",
            "1502    1503\n",
            "1944    1945\n",
            "1948    1949\n",
            "2066    2067\n",
            "2773    2774\n",
            "Name: bin, dtype: int64\n",
            "[   3   53   83  152  170  201  208  218  233  246  263  290  305  316\n",
            "  318  330  343  350  360  392  407  420  459  486  487  489  631  793\n",
            "  795  893  921  923  928  943 1060 1137 1370 1385 1437 1503 1945 1949\n",
            " 2067 2774]\n",
            "{3: 230, 53: 95, 83: 60, 152: 338, 170: 37, 201: 248, 208: 364, 218: 364, 233: 165, 246: 364, 263: 236, 290: 94, 305: 1, 316: 350, 318: 184, 330: 10, 343: 364, 350: 364, 360: 335, 392: 364, 407: 364, 420: 136, 459: 364, 486: 364, 487: 179, 489: 364, 631: 13, 793: 97, 795: 278, 893: 364, 921: 154, 923: 364, 928: 364, 943: 173, 1060: 153, 1137: 120, 1370: 154, 1385: 70, 1437: 249, 1503: 364, 1945: 364, 1949: 199, 2067: 13, 2774: 243, 65: 23, 922: 176, 707: 353, 951: 322, 104: 257, 145: 73, 1537: 40, 455: 297, 610: 272, 915: 259, 1176: 39, 4484: 81, 562: 242, 530: 217, 224: 11, 519: 154, 427: 5, 7674: 110, 403: 75, 579: 15, 1548: 47, 3873: 40}\n"
          ]
        }
      ]
    },
    {
      "cell_type": "code",
      "metadata": {
        "colab": {
          "base_uri": "https://localhost:8080/"
        },
        "id": "9vNDBiM0_cjL",
        "outputId": "c42201aa-f199-4586-e8fc-d005226991a1"
      },
      "source": [
        "from shapely.geometry import Point\n",
        "bins_policed_list = list(bins_policed_dict.keys())\n",
        "bins_policed_frequency = []\n",
        "\n",
        "# splitting bins policed list into two lists\n",
        "for bin in bins_policed_list:\n",
        "  bins_policed_frequency.append(bins_policed_dict[bin])\n",
        "\n",
        "d = {\n",
        "    'key': bins_policed_list,\n",
        "    'freq': bins_policed_frequency\n",
        "}\n",
        "\n",
        "# Turning into dataframe\n",
        "df_freq = pd.DataFrame(data=d)\n",
        "\n",
        "# items_df['Final Price'] = items_df.apply(\n",
        "    #lambda row: row.Actual_Price - ((row.Discount_Percentage/100)*row.Actual_Price), axis=1)\n",
        "\n",
        "# Add new column called bin, that maps keys to corresponding bins\n",
        "df_freq[\"bin\"] = df_freq.apply(lambda row: key_to_bin(row.key), axis=1)\n",
        "print(df_freq.head())\n",
        "\n",
        "# Add Point and Frequency, Remove everything else\n",
        "df_freq[\"longlat\"] = df_freq.apply(lambda row: bin_to_lat_long(row.bin), axis=1)\n",
        "df_freq[\"long\"] = df_freq.apply(lambda row: row.longlat[0], axis=1)\n",
        "df_freq[\"lat\"] = df_freq.apply(lambda row: row.longlat[1], axis=1)\n",
        "df_freq[\"point\"] = df_freq[[\"long\", \"lat\"]].apply(Point, axis=1)\n",
        "df_freq = df_freq.drop(\"longlat\", 1)\n",
        "df_freq = df_freq.drop(\"long\", 1)\n",
        "df_freq = df_freq.drop(\"lat\", 1)\n",
        "df_freq = df_freq.drop(\"key\", 1)\n",
        " # df_freq = df_freq.drop(\"bin\", 1)\n",
        "\n",
        "print(df_freq.head())\n",
        "print(df_freq.columns)\n",
        "\n",
        "\n",
        "\n"
      ],
      "execution_count": null,
      "outputs": [
        {
          "output_type": "stream",
          "name": "stdout",
          "text": [
            "   key  freq     bin\n",
            "0    3   230  648349\n",
            "1   53    95  615325\n",
            "2   83    60  731488\n",
            "3  152   338  714245\n",
            "4  170    37  833721\n",
            "   freq     bin                                         point\n",
            "0   230  648349  POINT (-118.1516188415506 33.87387555687556)\n",
            "1    95  615325  POINT (-118.2058506246569 33.84552552852553)\n",
            "2    60  731488  POINT (-118.3519124069183 33.94542562842563)\n",
            "3   338  714245   POINT (-118.290359993646 33.93057561357561)\n",
            "4    37  833721  POINT (-118.1580506913776 34.03317571617572)\n",
            "Index(['freq', 'bin', 'point'], dtype='object')\n"
          ]
        }
      ]
    },
    {
      "cell_type": "code",
      "source": [
        "# # add corresonding stuff\n",
        "# df_freq[\"holc\"] = df_freq.apply(lambda row: get_holc_id_rating(row.point), axis=1)\n",
        "# df_freq[\"holc_id\"] = df_freq.apply(lambda row: row.holc[0], axis=1)\n",
        "# df_freq[\"holc_rating\"] = df_freq.apply(lambda row: row.holc[1], axis=1)\n",
        "\n",
        "# print(df_freq.head())\n",
        "# print(df_freq.columns)\n",
        "\n",
        "# df_freq = df_freq.drop(\"holc\", 1)\n",
        "\n",
        "# # remove points that don't fall within red-lined area\n",
        "# df_freq = df_freq[df_freq[\"holc_id\"] != -1]\n",
        "\n",
        "# ratings = ['A', 'B', 'C', 'D']\n",
        "# sum_freqs = [0, 0, 0, 0]\n",
        "\n",
        "# # bar graph stuff\n",
        "# for index,row in df_freq.iterrows():\n",
        "#   sum_freqs[ratings.index(row.holc_rating)] += row.freq\n",
        "\n",
        "# freq_arr = np.array(sum_freqs)\n",
        "\n",
        "# # find proprotion\n",
        "# freq_arr = freq_arr / np.sum(freq_arr)\n",
        "# print(freq_arr)\n",
        "\n",
        "\n",
        "\n",
        "#geom = geopandas.points_from_xy(df_freq.long, df_freq.lat, crs=\"EPSG:4326\")\n",
        "\n",
        "\n",
        "#gdf_freq = geopandas.GeoDataFrame(\n",
        "#   df_freq, geometry=geom)\n",
        "\n",
        "\n",
        "\n",
        "# for index, row in df_freq.iterrows():\n",
        "#     row[\"bin\"] = key_to_bin(row[\"key\"])\n",
        "\n",
        "# print(df_freq.head())\n"
      ],
      "metadata": {
        "id": "SGIfokobAWDJ"
      },
      "execution_count": null,
      "outputs": []
    },
    {
      "cell_type": "code",
      "metadata": {
        "id": "II_u3Vo9TkB_"
      },
      "source": [
        "# fig = plt.figure()\n",
        "# fig.patch.set_facecolor('white')\n",
        "\n",
        "# ax = fig.add_axes([0,0,1,1])\n",
        "# a1 = ax.bar(ratings,freq_arr)\n",
        "# ax.bar_label(a1, fmt=\"%.3f\", label_type='edge')\n",
        "\n",
        "# plt.ylim(0, 1)\n",
        "# plt.title(f\"Proportion of Policing by HOLC Rating (threshold = {odds_to_police})\")\n",
        "# plt.xlabel(\"HOLC Rating\")\n",
        "# plt.ylabel(\"Percentage of Total Deployments per HOLC Rating\")\n",
        "# plt.show()"
      ],
      "execution_count": null,
      "outputs": []
    },
    {
      "cell_type": "markdown",
      "source": [
        "**Setting Census Geomapping** \n"
      ],
      "metadata": {
        "id": "yGsoTj7KhQwf"
      }
    },
    {
      "cell_type": "code",
      "source": [
        "df_freq.shape"
      ],
      "metadata": {
        "id": "aeXu5rSyhf_i",
        "colab": {
          "base_uri": "https://localhost:8080/"
        },
        "outputId": "47ede093-29f4-422e-fbe8-93ec4c4611a6"
      },
      "execution_count": null,
      "outputs": [
        {
          "output_type": "execute_result",
          "data": {
            "text/plain": [
              "(66, 3)"
            ]
          },
          "metadata": {},
          "execution_count": 10
        }
      ]
    },
    {
      "cell_type": "code",
      "source": [
        "# to give more power to your figures (plots)\n",
        "import matplotlib.pyplot as plt\n",
        "import os\n",
        "gdf1 = geopandas.read_file(\"/content/acs2019_5yr_B03002_14000US06037275603.geojson\")"
      ],
      "metadata": {
        "id": "1ZR7zmcQCHWm"
      },
      "execution_count": null,
      "outputs": []
    },
    {
      "cell_type": "code",
      "source": [
        "# dropping county level\n",
        "gdf1 = gdf1.drop([0])\n",
        "\n",
        "# choosing race\n",
        "columns_to_keep = ['geoid',\n",
        " 'name',\n",
        " 'B03002001',\n",
        " 'B03002003',\n",
        " 'B03002004',\n",
        " 'B03002005',\n",
        " 'B03002006',\n",
        " 'B03002007',\n",
        " 'B03002009',\n",
        " 'B03002012',\n",
        " 'geometry']\n",
        "\n",
        "# redefine gdf with only columns to keep\n",
        "gdf1 = gdf1[columns_to_keep]\n"
      ],
      "metadata": {
        "id": "sEeBQa8CN7xD"
      },
      "execution_count": null,
      "outputs": []
    },
    {
      "cell_type": "code",
      "source": [
        "# rename columns \n",
        "list(gdf1) # this is the same as df.columns.to_list()\n",
        "\n",
        "gdf1.columns = ['geoid',\n",
        " 'name',\n",
        " 'Total',\n",
        " 'White',\n",
        " 'Black',\n",
        " 'American indian/Alaska Native',\n",
        " 'Asian',\n",
        " 'Native Hawaiian and Other Pacific Islander',\n",
        " 'Non Hispanic Two or more races',\n",
        " 'Hispanic',\n",
        " 'geometry']\n",
        "# check the renamed columns\n",
        "gdf1.head()"
      ],
      "metadata": {
        "id": "0G3VUJDmPm6L",
        "colab": {
          "base_uri": "https://localhost:8080/",
          "height": 310
        },
        "outputId": "5d65bc77-0320-40c8-ffaa-549bda737f72"
      },
      "execution_count": null,
      "outputs": [
        {
          "output_type": "execute_result",
          "data": {
            "text/html": [
              "<div>\n",
              "<style scoped>\n",
              "    .dataframe tbody tr th:only-of-type {\n",
              "        vertical-align: middle;\n",
              "    }\n",
              "\n",
              "    .dataframe tbody tr th {\n",
              "        vertical-align: top;\n",
              "    }\n",
              "\n",
              "    .dataframe thead th {\n",
              "        text-align: right;\n",
              "    }\n",
              "</style>\n",
              "<table border=\"1\" class=\"dataframe\">\n",
              "  <thead>\n",
              "    <tr style=\"text-align: right;\">\n",
              "      <th></th>\n",
              "      <th>geoid</th>\n",
              "      <th>name</th>\n",
              "      <th>Total</th>\n",
              "      <th>White</th>\n",
              "      <th>Black</th>\n",
              "      <th>American indian/Alaska Native</th>\n",
              "      <th>Asian</th>\n",
              "      <th>Native Hawaiian and Other Pacific Islander</th>\n",
              "      <th>Non Hispanic Two or more races</th>\n",
              "      <th>Hispanic</th>\n",
              "      <th>geometry</th>\n",
              "    </tr>\n",
              "  </thead>\n",
              "  <tbody>\n",
              "    <tr>\n",
              "      <th>1</th>\n",
              "      <td>14000US06037101110</td>\n",
              "      <td>Census Tract 1011.10, Los Angeles, CA</td>\n",
              "      <td>4283.0</td>\n",
              "      <td>2616.0</td>\n",
              "      <td>19.0</td>\n",
              "      <td>3.0</td>\n",
              "      <td>331.0</td>\n",
              "      <td>3.0</td>\n",
              "      <td>115.0</td>\n",
              "      <td>1188.0</td>\n",
              "      <td>MULTIPOLYGON (((-118.30229 34.25870, -118.3009...</td>\n",
              "    </tr>\n",
              "    <tr>\n",
              "      <th>2</th>\n",
              "      <td>14000US06037101122</td>\n",
              "      <td>Census Tract 1011.22, Los Angeles, CA</td>\n",
              "      <td>3405.0</td>\n",
              "      <td>2882.0</td>\n",
              "      <td>74.0</td>\n",
              "      <td>15.0</td>\n",
              "      <td>220.0</td>\n",
              "      <td>0.0</td>\n",
              "      <td>67.0</td>\n",
              "      <td>147.0</td>\n",
              "      <td>MULTIPOLYGON (((-118.30334 34.27371, -118.3033...</td>\n",
              "    </tr>\n",
              "    <tr>\n",
              "      <th>3</th>\n",
              "      <td>14000US06037101210</td>\n",
              "      <td>Census Tract 1012.10, Los Angeles, CA</td>\n",
              "      <td>6347.0</td>\n",
              "      <td>2986.0</td>\n",
              "      <td>198.0</td>\n",
              "      <td>0.0</td>\n",
              "      <td>486.0</td>\n",
              "      <td>0.0</td>\n",
              "      <td>14.0</td>\n",
              "      <td>2616.0</td>\n",
              "      <td>MULTIPOLYGON (((-118.29945 34.25598, -118.2979...</td>\n",
              "    </tr>\n",
              "    <tr>\n",
              "      <th>4</th>\n",
              "      <td>14000US06037101220</td>\n",
              "      <td>Census Tract 1012.20, Los Angeles, CA</td>\n",
              "      <td>3702.0</td>\n",
              "      <td>1812.0</td>\n",
              "      <td>87.0</td>\n",
              "      <td>0.0</td>\n",
              "      <td>341.0</td>\n",
              "      <td>0.0</td>\n",
              "      <td>98.0</td>\n",
              "      <td>1364.0</td>\n",
              "      <td>MULTIPOLYGON (((-118.28593 34.25227, -118.2859...</td>\n",
              "    </tr>\n",
              "    <tr>\n",
              "      <th>5</th>\n",
              "      <td>14000US06037101300</td>\n",
              "      <td>Census Tract 1013, Los Angeles, CA</td>\n",
              "      <td>3884.0</td>\n",
              "      <td>3126.0</td>\n",
              "      <td>205.0</td>\n",
              "      <td>0.0</td>\n",
              "      <td>194.0</td>\n",
              "      <td>0.0</td>\n",
              "      <td>62.0</td>\n",
              "      <td>297.0</td>\n",
              "      <td>MULTIPOLYGON (((-118.27822 34.25068, -118.2782...</td>\n",
              "    </tr>\n",
              "  </tbody>\n",
              "</table>\n",
              "</div>"
            ],
            "text/plain": [
              "                geoid  ...                                           geometry\n",
              "1  14000US06037101110  ...  MULTIPOLYGON (((-118.30229 34.25870, -118.3009...\n",
              "2  14000US06037101122  ...  MULTIPOLYGON (((-118.30334 34.27371, -118.3033...\n",
              "3  14000US06037101210  ...  MULTIPOLYGON (((-118.29945 34.25598, -118.2979...\n",
              "4  14000US06037101220  ...  MULTIPOLYGON (((-118.28593 34.25227, -118.2859...\n",
              "5  14000US06037101300  ...  MULTIPOLYGON (((-118.27822 34.25068, -118.2782...\n",
              "\n",
              "[5 rows x 11 columns]"
            ]
          },
          "metadata": {},
          "execution_count": 13
        }
      ]
    },
    {
      "cell_type": "markdown",
      "source": [
        "**Baseline Demographic Analysis**"
      ],
      "metadata": {
        "id": "_an_i0qVa-_W"
      }
    },
    {
      "cell_type": "code",
      "source": [
        "# point: geopandas point, normalizing proportion of target demographic within each bin\n",
        "def map_to_census_tract(point):\n",
        "  for index,row in gdf1.iterrows():\n",
        "    if row.geometry.contains(point):\n",
        "      area = row.geometry.area\n",
        "\n",
        "      white = ((150*150)/(area*10000)) * row.White\n",
        "      black = ((150*150)/(area*10000)) * row.Black\n",
        "      hispanic = ((150*150)/(area*10000)) * row.Hispanic\n",
        "      return (white,black,hispanic, row.geometry)\n",
        "  return (-1, -1, -1)"
      ],
      "metadata": {
        "id": "TSC8eoLci7Je"
      },
      "execution_count": null,
      "outputs": []
    },
    {
      "cell_type": "code",
      "source": [
        "# Map each Bin to a Census Block\n",
        "df_freq[\"Demographics\"] = df_freq.apply(lambda row: map_to_census_tract(row.point), axis=1)\n",
        "# Number of Target Demographic Within Correspinding Bin\n",
        "df_freq[\"white\"] = df_freq.apply(lambda row: row.Demographics[0], axis=1)\n",
        "df_freq[\"black\"] = df_freq.apply(lambda row: row.Demographics[1], axis=1)\n",
        "df_freq[\"hispanic\"] = df_freq.apply(lambda row: row.Demographics[2], axis=1)\n",
        "df_freq[\"geometry\"] = df_freq.apply(lambda row: row.Demographics[3], axis=1)\n",
        "\n",
        "df_freq = df_freq.drop(\"Demographics\", 1)\n",
        "\n",
        "# Total Populations\n",
        "Total_White_Pop = 7027375\n",
        "Total_Black_Pop = 903512\n",
        "Total_Latino_Pop = 4879006"
      ],
      "metadata": {
        "id": "K8hlyUlQa-kh",
        "colab": {
          "base_uri": "https://localhost:8080/"
        },
        "outputId": "54a3f7ca-9fc4-40a7-91c0-342b5e627d69"
      },
      "execution_count": null,
      "outputs": [
        {
          "output_type": "stream",
          "name": "stderr",
          "text": [
            "/usr/local/lib/python3.7/dist-packages/pandas/core/dtypes/cast.py:1591: ShapelyDeprecationWarning: __len__ for multi-part geometries is deprecated and will be removed in Shapely 2.0. Check the length of the `geoms` property instead to get the  number of parts of a multi-part geometry.\n",
            "  result[:] = values\n",
            "/usr/local/lib/python3.7/dist-packages/pandas/core/dtypes/cast.py:1591: ShapelyDeprecationWarning: Iteration over multi-part geometries is deprecated and will be removed in Shapely 2.0. Use the `geoms` property to access the constituent parts of a multi-part geometry.\n",
            "  result[:] = values\n",
            "/usr/local/lib/python3.7/dist-packages/pandas/core/dtypes/inference.py:384: ShapelyDeprecationWarning: Iteration over multi-part geometries is deprecated and will be removed in Shapely 2.0. Use the `geoms` property to access the constituent parts of a multi-part geometry.\n",
            "  iter(obj)  # Can iterate over it.\n",
            "/usr/local/lib/python3.7/dist-packages/pandas/core/dtypes/inference.py:385: ShapelyDeprecationWarning: __len__ for multi-part geometries is deprecated and will be removed in Shapely 2.0. Check the length of the `geoms` property instead to get the  number of parts of a multi-part geometry.\n",
            "  len(obj)  # Has a length associated with it.\n"
          ]
        }
      ]
    },
    {
      "cell_type": "code",
      "source": [
        "black_sum = 0\n",
        "white_sum = 0\n",
        "hispanic_sum = 0\n",
        "\n",
        "# check if bin is above threshold, gather race data\n",
        "# First Equation from our paper\n",
        "for index, row in df_freq.iterrows():\n",
        "  if row.freq >= odds_to_police:\n",
        "    black_sum += row.black\n",
        "    white_sum += row.white\n",
        "    hispanic_sum += row.hispanic\n",
        "\n",
        "b = black_sum / Total_Black_Pop\n",
        "w = white_sum / Total_White_Pop\n",
        "l = hispanic_sum / Total_Latino_Pop\n",
        "\n",
        "print(b)\n",
        "print(w)\n",
        "print(l)"
      ],
      "metadata": {
        "id": "b7XL_RnMxnH8",
        "colab": {
          "base_uri": "https://localhost:8080/"
        },
        "outputId": "64985eb8-4441-4a0a-a12e-40e07c36f3e9"
      },
      "execution_count": null,
      "outputs": [
        {
          "output_type": "stream",
          "name": "stdout",
          "text": [
            "943.480018526485\n",
            "112.45808083591653\n",
            "702.478846695433\n"
          ]
        }
      ]
    },
    {
      "cell_type": "code",
      "source": [
        "# Plotting\n",
        "sum = b + w + l\n",
        "\n",
        "races = ['white', 'black', 'latina/o']\n",
        "nums = [w/sum * 100, b/sum * 100, l/sum * 100]\n",
        "\n",
        "fig = plt.figure()\n",
        "fig.patch.set_facecolor('white')\n",
        "\n",
        "ax = fig.add_axes([0,0,1,1])\n",
        "a1 = ax.bar(races,nums)\n",
        "ax.bar_label(a1, fmt=\"%.3f\", label_type='edge')\n",
        "\n",
        "plt.ylim(0, 100)\n",
        "plt.title(f\"Proportion of Policing by Race (threshold = {odds_to_police})\")\n",
        "plt.xlabel(\"Race\")\n",
        "plt.ylabel(\"Percent Race Falls w/ in Deployments\")\n",
        "plt.show()"
      ],
      "metadata": {
        "id": "lCaHhF6ezSS3",
        "colab": {
          "base_uri": "https://localhost:8080/",
          "height": 366
        },
        "outputId": "ccd2ac4a-65e2-48f7-84d7-17a9ea93bac3"
      },
      "execution_count": null,
      "outputs": [
        {
          "output_type": "display_data",
          "data": {
            "image/png": "[encoded data removed]",
            "text/plain": [
              "<Figure size 432x288 with 1 Axes>"
            ]
          },
          "metadata": {}
        }
      ]
    },
    {
      "cell_type": "markdown",
      "source": [
        "**Replacing Threshold w/ Success Rate**"
      ],
      "metadata": {
        "id": "y72DKCUi0627"
      }
    },
    {
      "cell_type": "code",
      "source": [
        "# Grabbing Crime Data for 2019\n",
        "\n",
        "df_2019 = pd.read_csv(\"/content/LACRIMES_2019.csv\")\n",
        "\n",
        "# removing category 2 crimes, more violent charges that don't have drug data\n",
        "df_2019.drop(df_2019[df_2019['PART_CATEGORY'] == 1 ].index , inplace=True)\n",
        "\n",
        "# grabbing crime data specifically // 201, 202, 241, 242, 243, 244, 245, 495, 743, 181 - 189\n",
        "values = [201, 202, 241, 242, 243, 244, 245, 495, 743, 181, 182, 183, 184, 185, 186, 187, 188, 189]\n",
        "df_2019 = df_2019[df_2019.STAT.isin(values)]\n",
        "\n",
        "# Remove columns we don't need for prediction\n",
        "df_2019 = df_2019.drop('PART_CATEGORY', 1)\n",
        "df_2019 = df_2019.drop('CATEGORY', 1)\n",
        "df_2019 = df_2019.drop('STAT_DESC', 1)\n",
        "df_2019 = df_2019.drop('INCIDENT_ID', 1)"
      ],
      "metadata": {
        "id": "lqVw7Ar705kB"
      },
      "execution_count": null,
      "outputs": []
    },
    {
      "cell_type": "code",
      "source": [
        "# Setting Date Time\n",
        "df_2019['INCIDENT_DATE'] = pd.to_datetime(df_2019['INCIDENT_DATE'])\n",
        "df_2019.set_index('INCIDENT_DATE', inplace=True)\n",
        "df_2019.sort_index(inplace=True)\n",
        "\n",
        "df_2019['month'] = df_2019.index.month\n",
        "df_2019['year'] = df_2019.index.year\n",
        "df_2019['day'] = df_2019.index.day\n",
        "df_2019['crimes'] = 1\n",
        "\n",
        "# Some Incident dates are outside of yearly bounds\n",
        "# Some crimes are not within 2019.\n",
        "df_2019 = df_2019[df_2019.index > '2018-12-31']\n",
        "\n",
        "# Add our points\n",
        "from shapely.geometry import Point\n",
        "df_2019[\"point\"] = df_2019[[\"LONGITUDE\", \"LATITUDE\"]].apply(Point, axis=1)\n",
        "\n",
        "df_2019 = df_2019.drop('LONGITUDE', 1)\n",
        "df_2019 = df_2019.drop('LATITUDE', 1)\n",
        "df_2019.head()"
      ],
      "metadata": {
        "colab": {
          "base_uri": "https://localhost:8080/",
          "height": 324
        },
        "id": "0YY2cqIwhxm3",
        "outputId": "cd5010fe-13d4-4dbe-b7cb-60803787dc1e"
      },
      "execution_count": null,
      "outputs": [
        {
          "output_type": "execute_result",
          "data": {
            "text/html": [
              "<div>\n",
              "<style scoped>\n",
              "    .dataframe tbody tr th:only-of-type {\n",
              "        vertical-align: middle;\n",
              "    }\n",
              "\n",
              "    .dataframe tbody tr th {\n",
              "        vertical-align: top;\n",
              "    }\n",
              "\n",
              "    .dataframe thead th {\n",
              "        text-align: right;\n",
              "    }\n",
              "</style>\n",
              "<table border=\"1\" class=\"dataframe\">\n",
              "  <thead>\n",
              "    <tr style=\"text-align: right;\">\n",
              "      <th></th>\n",
              "      <th>INCIDENT_REPORTED_DATE</th>\n",
              "      <th>STAT</th>\n",
              "      <th>ADDRESS</th>\n",
              "      <th>STREET</th>\n",
              "      <th>CITY</th>\n",
              "      <th>ZIP</th>\n",
              "      <th>REPORTING_DISTRICT</th>\n",
              "      <th>UNIT_NAME</th>\n",
              "      <th>month</th>\n",
              "      <th>year</th>\n",
              "      <th>day</th>\n",
              "      <th>crimes</th>\n",
              "      <th>point</th>\n",
              "    </tr>\n",
              "    <tr>\n",
              "      <th>INCIDENT_DATE</th>\n",
              "      <th></th>\n",
              "      <th></th>\n",
              "      <th></th>\n",
              "      <th></th>\n",
              "      <th></th>\n",
              "      <th></th>\n",
              "      <th></th>\n",
              "      <th></th>\n",
              "      <th></th>\n",
              "      <th></th>\n",
              "      <th></th>\n",
              "      <th></th>\n",
              "      <th></th>\n",
              "    </tr>\n",
              "  </thead>\n",
              "  <tbody>\n",
              "    <tr>\n",
              "      <th>2019-01-01 00:25:00</th>\n",
              "      <td>01/01/2019</td>\n",
              "      <td>242</td>\n",
              "      <td>SUNSET BLVD AND SWEETZER AVE, WEST HOLLYWOOD, CA</td>\n",
              "      <td>SUNSET BLVD AND SWEETZER AVE</td>\n",
              "      <td>WEST HOLLYWOOD</td>\n",
              "      <td>NaN</td>\n",
              "      <td>987</td>\n",
              "      <td>WEST HOLLYWOOD</td>\n",
              "      <td>1</td>\n",
              "      <td>2019</td>\n",
              "      <td>1</td>\n",
              "      <td>1</td>\n",
              "      <td>POINT (-118.37 34.096)</td>\n",
              "    </tr>\n",
              "    <tr>\n",
              "      <th>2019-01-01 00:53:00</th>\n",
              "      <td>01/01/2019</td>\n",
              "      <td>185</td>\n",
              "      <td>22400 S CAROLDALE AVE, CARSON, CA</td>\n",
              "      <td>22400 S CAROLDALE AVE</td>\n",
              "      <td>CARSON</td>\n",
              "      <td>NaN</td>\n",
              "      <td>1623</td>\n",
              "      <td>CARSON</td>\n",
              "      <td>1</td>\n",
              "      <td>2019</td>\n",
              "      <td>1</td>\n",
              "      <td>1</td>\n",
              "      <td>POINT (-118.284 33.822)</td>\n",
              "    </tr>\n",
              "    <tr>\n",
              "      <th>2019-01-01 00:54:00</th>\n",
              "      <td>01/01/2019</td>\n",
              "      <td>185</td>\n",
              "      <td>186TH ST AND CROCKER AVE, CARSON, CA</td>\n",
              "      <td>186TH ST AND CROCKER AVE</td>\n",
              "      <td>CARSON</td>\n",
              "      <td>NaN</td>\n",
              "      <td>1614</td>\n",
              "      <td>CARSON</td>\n",
              "      <td>1</td>\n",
              "      <td>2019</td>\n",
              "      <td>1</td>\n",
              "      <td>1</td>\n",
              "      <td>POINT (-118.268 33.861)</td>\n",
              "    </tr>\n",
              "    <tr>\n",
              "      <th>2019-01-01 01:30:00</th>\n",
              "      <td>01/01/2019</td>\n",
              "      <td>201</td>\n",
              "      <td>100 BLK OF SUMNER AVE, AVALON, CA</td>\n",
              "      <td>100 BLK OF SUMNER AVE</td>\n",
              "      <td>AVALON</td>\n",
              "      <td>NaN</td>\n",
              "      <td>1811</td>\n",
              "      <td>AVALON</td>\n",
              "      <td>1</td>\n",
              "      <td>2019</td>\n",
              "      <td>1</td>\n",
              "      <td>1</td>\n",
              "      <td>POINT (nan nan)</td>\n",
              "    </tr>\n",
              "    <tr>\n",
              "      <th>2019-01-01 02:07:00</th>\n",
              "      <td>01/01/2019</td>\n",
              "      <td>242</td>\n",
              "      <td>8700 VALLEY BLVD, ROSEMEAD, CA  91770</td>\n",
              "      <td>8700 VALLEY BLVD</td>\n",
              "      <td>ROSEMEAD</td>\n",
              "      <td>91770.0</td>\n",
              "      <td>530</td>\n",
              "      <td>TEMPLE</td>\n",
              "      <td>1</td>\n",
              "      <td>2019</td>\n",
              "      <td>1</td>\n",
              "      <td>1</td>\n",
              "      <td>POINT (-118.078 34.081)</td>\n",
              "    </tr>\n",
              "  </tbody>\n",
              "</table>\n",
              "</div>"
            ],
            "text/plain": [
              "                    INCIDENT_REPORTED_DATE  ...                    point\n",
              "INCIDENT_DATE                               ...                         \n",
              "2019-01-01 00:25:00             01/01/2019  ...   POINT (-118.37 34.096)\n",
              "2019-01-01 00:53:00             01/01/2019  ...  POINT (-118.284 33.822)\n",
              "2019-01-01 00:54:00             01/01/2019  ...  POINT (-118.268 33.861)\n",
              "2019-01-01 01:30:00             01/01/2019  ...          POINT (nan nan)\n",
              "2019-01-01 02:07:00             01/01/2019  ...  POINT (-118.078 34.081)\n",
              "\n",
              "[5 rows x 13 columns]"
            ]
          },
          "metadata": {},
          "execution_count": 25
        }
      ]
    },
    {
      "cell_type": "markdown",
      "source": [
        "**Warning: This next part takes 500 years to run (8 min)**"
      ],
      "metadata": {
        "id": "QBQLuY9FecBv"
      }
    },
    {
      "cell_type": "code",
      "source": [
        "# Mapping Crimes to Bins\n",
        "def find_crime_freq(geom):\n",
        "  sum = 0\n",
        "  for index,row in df_2019.iterrows():\n",
        "    if geom.contains(row.point):\n",
        "      sum = sum + 1\n",
        "  return sum\n",
        "\n",
        "df_freq[\"tot crime\"] = df_freq.apply(lambda row: find_crime_freq(row.geometry), axis=1)\n",
        "\n",
        "df_freq.head()"
      ],
      "metadata": {
        "id": "on8JqoHs5XTD",
        "colab": {
          "base_uri": "https://localhost:8080/",
          "height": 573
        },
        "outputId": "ff9f4669-585c-46d1-e3c1-f7e0aee2cb3a"
      },
      "execution_count": null,
      "outputs": [
        {
          "output_type": "stream",
          "name": "stderr",
          "text": [
            "/usr/local/lib/python3.7/dist-packages/pandas/core/dtypes/inference.py:384: ShapelyDeprecationWarning: Iteration over multi-part geometries is deprecated and will be removed in Shapely 2.0. Use the `geoms` property to access the constituent parts of a multi-part geometry.\n",
            "  iter(obj)  # Can iterate over it.\n",
            "/usr/local/lib/python3.7/dist-packages/pandas/core/dtypes/inference.py:385: ShapelyDeprecationWarning: __len__ for multi-part geometries is deprecated and will be removed in Shapely 2.0. Check the length of the `geoms` property instead to get the  number of parts of a multi-part geometry.\n",
            "  len(obj)  # Has a length associated with it.\n",
            "/usr/local/lib/python3.7/dist-packages/pandas/io/formats/printing.py:119: ShapelyDeprecationWarning: Iteration over multi-part geometries is deprecated and will be removed in Shapely 2.0. Use the `geoms` property to access the constituent parts of a multi-part geometry.\n",
            "  s = iter(seq)\n",
            "/usr/local/lib/python3.7/dist-packages/pandas/io/formats/printing.py:123: ShapelyDeprecationWarning: __len__ for multi-part geometries is deprecated and will be removed in Shapely 2.0. Check the length of the `geoms` property instead to get the  number of parts of a multi-part geometry.\n",
            "  for i in range(min(nitems, len(seq)))\n",
            "/usr/local/lib/python3.7/dist-packages/pandas/io/formats/printing.py:127: ShapelyDeprecationWarning: __len__ for multi-part geometries is deprecated and will be removed in Shapely 2.0. Check the length of the `geoms` property instead to get the  number of parts of a multi-part geometry.\n",
            "  if nitems < len(seq):\n",
            "/usr/local/lib/python3.7/dist-packages/pandas/core/dtypes/inference.py:384: ShapelyDeprecationWarning: Iteration over multi-part geometries is deprecated and will be removed in Shapely 2.0. Use the `geoms` property to access the constituent parts of a multi-part geometry.\n",
            "  iter(obj)  # Can iterate over it.\n",
            "/usr/local/lib/python3.7/dist-packages/pandas/core/dtypes/inference.py:385: ShapelyDeprecationWarning: __len__ for multi-part geometries is deprecated and will be removed in Shapely 2.0. Check the length of the `geoms` property instead to get the  number of parts of a multi-part geometry.\n",
            "  len(obj)  # Has a length associated with it.\n",
            "/usr/local/lib/python3.7/dist-packages/pandas/io/formats/printing.py:119: ShapelyDeprecationWarning: Iteration over multi-part geometries is deprecated and will be removed in Shapely 2.0. Use the `geoms` property to access the constituent parts of a multi-part geometry.\n",
            "  s = iter(seq)\n",
            "/usr/local/lib/python3.7/dist-packages/pandas/io/formats/printing.py:123: ShapelyDeprecationWarning: __len__ for multi-part geometries is deprecated and will be removed in Shapely 2.0. Check the length of the `geoms` property instead to get the  number of parts of a multi-part geometry.\n",
            "  for i in range(min(nitems, len(seq)))\n",
            "/usr/local/lib/python3.7/dist-packages/pandas/io/formats/printing.py:127: ShapelyDeprecationWarning: __len__ for multi-part geometries is deprecated and will be removed in Shapely 2.0. Check the length of the `geoms` property instead to get the  number of parts of a multi-part geometry.\n",
            "  if nitems < len(seq):\n"
          ]
        },
        {
          "output_type": "execute_result",
          "data": {
            "text/html": [
              "<div>\n",
              "<style scoped>\n",
              "    .dataframe tbody tr th:only-of-type {\n",
              "        vertical-align: middle;\n",
              "    }\n",
              "\n",
              "    .dataframe tbody tr th {\n",
              "        vertical-align: top;\n",
              "    }\n",
              "\n",
              "    .dataframe thead th {\n",
              "        text-align: right;\n",
              "    }\n",
              "</style>\n",
              "<table border=\"1\" class=\"dataframe\">\n",
              "  <thead>\n",
              "    <tr style=\"text-align: right;\">\n",
              "      <th></th>\n",
              "      <th>freq</th>\n",
              "      <th>bin</th>\n",
              "      <th>point</th>\n",
              "      <th>white</th>\n",
              "      <th>black</th>\n",
              "      <th>hispanic</th>\n",
              "      <th>geometry</th>\n",
              "      <th>tot crime</th>\n",
              "    </tr>\n",
              "  </thead>\n",
              "  <tbody>\n",
              "    <tr>\n",
              "      <th>0</th>\n",
              "      <td>230</td>\n",
              "      <td>648349</td>\n",
              "      <td>POINT (-118.1516188415506 33.87387555687556)</td>\n",
              "      <td>2.456177e+07</td>\n",
              "      <td>3.100766e+07</td>\n",
              "      <td>9.496096e+07</td>\n",
              "      <td>(POLYGON ((-118.159981 33.874684, -118.158899 ...</td>\n",
              "      <td>0</td>\n",
              "    </tr>\n",
              "    <tr>\n",
              "      <th>1</th>\n",
              "      <td>95</td>\n",
              "      <td>615325</td>\n",
              "      <td>POINT (-118.2058506246569 33.84552552852553)</td>\n",
              "      <td>6.530594e+06</td>\n",
              "      <td>9.814133e+06</td>\n",
              "      <td>4.998276e+07</td>\n",
              "      <td>(POLYGON ((-118.207657 33.839452, -118.207563 ...</td>\n",
              "      <td>0</td>\n",
              "    </tr>\n",
              "    <tr>\n",
              "      <th>2</th>\n",
              "      <td>60</td>\n",
              "      <td>731488</td>\n",
              "      <td>POINT (-118.3519124069183 33.94542562842563)</td>\n",
              "      <td>2.370146e+05</td>\n",
              "      <td>2.986384e+06</td>\n",
              "      <td>1.284619e+08</td>\n",
              "      <td>(POLYGON ((-118.356967 33.942603, -118.356963 ...</td>\n",
              "      <td>30</td>\n",
              "    </tr>\n",
              "    <tr>\n",
              "      <th>3</th>\n",
              "      <td>338</td>\n",
              "      <td>714245</td>\n",
              "      <td>POINT (-118.290359993646 33.93057561357561)</td>\n",
              "      <td>6.942866e+05</td>\n",
              "      <td>4.100258e+07</td>\n",
              "      <td>6.730613e+07</td>\n",
              "      <td>(POLYGON ((-118.291641 33.938204, -118.289364 ...</td>\n",
              "      <td>19</td>\n",
              "    </tr>\n",
              "    <tr>\n",
              "      <th>4</th>\n",
              "      <td>37</td>\n",
              "      <td>833721</td>\n",
              "      <td>POINT (-118.1580506913776 34.03317571617572)</td>\n",
              "      <td>3.432207e+06</td>\n",
              "      <td>0.000000e+00</td>\n",
              "      <td>7.905912e+07</td>\n",
              "      <td>(POLYGON ((-118.15978 34.025684, -118.159499 3...</td>\n",
              "      <td>29</td>\n",
              "    </tr>\n",
              "  </tbody>\n",
              "</table>\n",
              "</div>"
            ],
            "text/plain": [
              "   freq     bin  ...                                           geometry  tot crime\n",
              "0   230  648349  ...  (POLYGON ((-118.159981 33.874684, -118.158899 ...          0\n",
              "1    95  615325  ...  (POLYGON ((-118.207657 33.839452, -118.207563 ...          0\n",
              "2    60  731488  ...  (POLYGON ((-118.356967 33.942603, -118.356963 ...         30\n",
              "3   338  714245  ...  (POLYGON ((-118.291641 33.938204, -118.289364 ...         19\n",
              "4    37  833721  ...  (POLYGON ((-118.15978 34.025684, -118.159499 3...         29\n",
              "\n",
              "[5 rows x 8 columns]"
            ]
          },
          "metadata": {},
          "execution_count": 26
        }
      ]
    },
    {
      "cell_type": "code",
      "source": [
        "black_sum1 = 0\n",
        "white_sum1 = 0\n",
        "hispanic_sum1 = 0\n",
        "\n",
        "# Equation from Paper\n",
        "for index, row in df_freq.iterrows():\n",
        "    black_sum1 += (row['tot crime']/row.freq) * row.black\n",
        "    white_sum1 += (row['tot crime']/row.freq) * row.white\n",
        "    hispanic_sum1 += (row['tot crime']/row.freq) * row.hispanic\n",
        "\n",
        "b1 = black_sum1 / Total_Black_Pop\n",
        "w1 = white_sum1 / Total_White_Pop\n",
        "l1 = hispanic_sum1 / Total_Latino_Pop\n",
        "\n",
        "# Plotting\n",
        "sum1 = b1 + w1 + l1\n",
        "\n",
        "races = ['white', 'black', 'latina/o']\n",
        "nums = [w1/sum1 * 100, b1/sum1 * 100, l1/sum1 * 100]\n",
        "\n",
        "fig = plt.figure()\n",
        "fig.patch.set_facecolor('white')\n",
        "\n",
        "ax = fig.add_axes([0,0,1,1])\n",
        "a1 = ax.bar(races,nums)\n",
        "ax.bar_label(a1, fmt=\"%.3f\", label_type='edge')\n",
        "\n",
        "plt.ylim(0, 100)\n",
        "plt.title(f\"Over-Policing Bias)\")\n",
        "plt.xlabel(\"Race\")\n",
        "plt.ylabel(\"Success Rate Percentage Per Population Group\")\n",
        "plt.show()\n"
      ],
      "metadata": {
        "id": "QS7oxeTwYa6L",
        "colab": {
          "base_uri": "https://localhost:8080/",
          "height": 366
        },
        "outputId": "78581d57-c139-4c9c-8184-d42f1ba3dc71"
      },
      "execution_count": null,
      "outputs": [
        {
          "output_type": "display_data",
          "data": {
            "image/png": "[encoded data removed]",
            "text/plain": [
              "<Figure size 432x288 with 1 Axes>"
            ]
          },
          "metadata": {}
        }
      ]
    }
  ]
}